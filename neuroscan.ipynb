{
 "cells": [
  {
   "cell_type": "markdown",
   "id": "c4559a49",
   "metadata": {},
   "source": [
    "## Importing Libraries"
   ]
  },
  {
   "cell_type": "code",
   "execution_count": 1,
   "id": "abc8306c",
   "metadata": {},
   "outputs": [],
   "source": [
    "import tensorflow as tf\n",
    "from tensorflow.keras.layers import Conv2D, Input, ZeroPadding2D, BatchNormalization, Activation, MaxPooling2D, Flatten, Dense\n",
    "from tensorflow.keras.models import Model, load_model\n",
    "from sklearn.model_selection import train_test_split\n",
    "from sklearn.metrics import f1_score\n",
    "from sklearn.utils import shuffle\n",
    "import cv2\n",
    "import imutils\n",
    "import numpy as np\n",
    "from PIL import Image\n",
    "from os import listdir\n",
    "from tensorflow.keras.preprocessing.image import ImageDataGenerator\n",
    "import pickle\n",
    "from sklearn.metrics import classification_report\n",
    "from sklearn.metrics import accuracy_score, confusion_matrix\n",
    "from keras.callbacks import EarlyStopping\n",
    "\n",
    "%matplotlib inline"
   ]
  },
  {
   "cell_type": "markdown",
   "id": "3ca25a6d",
   "metadata": {},
   "source": [
    "## Data Augmentation"
   ]
  },
  {
   "cell_type": "markdown",
   "id": "778ed1c9",
   "metadata": {},
   "source": [
    "Use the ImageDataGenerator class from the Keras library to create a function that generate augmented images."
   ]
  },
  {
   "cell_type": "code",
   "execution_count": 2,
   "id": "7deb7ef2",
   "metadata": {},
   "outputs": [],
   "source": [
    "def augment_data(file_dir, n_generated_samples, save_to_dir):\n",
    "    data_gen = ImageDataGenerator(rotation_range=10, \n",
    "                                  width_shift_range=0.1, \n",
    "                                  height_shift_range=0.1, \n",
    "                                  shear_range=0.1, \n",
    "                                  brightness_range=(0.3, 1.0),\n",
    "                                  horizontal_flip=True, \n",
    "                                  vertical_flip=True, \n",
    "                                  fill_mode='nearest'\n",
    "                                 )\n",
    "\n",
    "    # iterate over the files in the specified directory\n",
    "    for filename in listdir(file_dir):\n",
    "        # load the image (reads the image as a NumPy array.)\n",
    "        image = cv2.imread(file_dir + '/' + filename)\n",
    "        # reshape the image to include an additional dimension. \n",
    "        #This is done to match the expected input shape of the flow method of ImageDataGenerator, \n",
    "        #which expects a 4D tensor with dimensions (batch_size, height, width, channels).\n",
    "        image = image.reshape((1,)+image.shape)\n",
    "        # prefix of the names for the generated sampels.\n",
    "        save_prefix = 'aug_' + filename[:-4]\n",
    "        # generate 'n_generated_samples' sample images\n",
    "        i=0\n",
    "        for batch in data_gen.flow(x=image, batch_size=1, save_to_dir=save_to_dir, \n",
    "                                           save_prefix=save_prefix, save_format='jpg'):\n",
    "            i += 1\n",
    "            if i > n_generated_samples:\n",
    "                break"
   ]
  },
  {
   "cell_type": "markdown",
   "id": "767af106",
   "metadata": {},
   "source": [
    "Call the function to generate augmented data for both \"no\" and \"yes\" examples"
   ]
  },
  {
   "cell_type": "code",
   "execution_count": 3,
   "id": "173d59d9",
   "metadata": {},
   "outputs": [],
   "source": [
    "yes_path = 'yes'\n",
    "no_path = 'no'\n",
    "augmented_data_path = 'augmented data/'\n",
    "\n",
    "# augment data for the examples with label equal to 'yes' representing tumurous examples (n generated samples-6)\n",
    "augment_data(file_dir=yes_path, n_generated_samples=6, save_to_dir=augmented_data_path+ 'yes')\n",
    "# augment data for the examples with label equal to 'no* representing non-tumurous examples (n generated samples-6)\n",
    "augment_data(file_dir=no_path, n_generated_samples=6, save_to_dir=augmented_data_path+'no')"
   ]
  },
  {
   "cell_type": "markdown",
   "id": "4ded8dfb",
   "metadata": {},
   "source": [
    "Get the number of positive and negative examples."
   ]
  },
  {
   "cell_type": "code",
   "execution_count": 4,
   "id": "eac885de",
   "metadata": {},
   "outputs": [
    {
     "name": "stdout",
     "output_type": "stream",
     "text": [
      "Number of examples: 4625\n",
      "Number of pos examples: 3253\n",
      "Number of neg examples: 1372\n"
     ]
    }
   ],
   "source": [
    "yes_path = 'augmented data/yes'\n",
    "no_path = 'augmented data/no'\n",
    "# number of files (images) that are in the the folder named 'ves that represent tumorous (positive) examples\n",
    "m_pos = len(listdir(yes_path))\n",
    "# number of files (images) that are in the the folder named \"no° that represent non-tumorous (negative) examples\n",
    "m_neg = len(listdir(no_path))\n",
    "# number of all examples\n",
    "m = m_pos + m_neg\n",
    "print(f\"Number of examples: {m}\")\n",
    "print(f\"Number of pos examples: {m_pos}\")\n",
    "print(f\"Number of neg examples: {m_neg}\")"
   ]
  },
  {
   "cell_type": "markdown",
   "id": "7301ee00",
   "metadata": {},
   "source": [
    "## Image Denoising"
   ]
  },
  {
   "cell_type": "code",
   "execution_count": 5,
   "id": "48f6be3d",
   "metadata": {},
   "outputs": [],
   "source": [
    "image = cv2.imread('yes/Y1.jpg')"
   ]
  },
  {
   "cell_type": "markdown",
   "id": "032a00e8",
   "metadata": {},
   "source": [
    "Convert the image to grayscale, and blur it slightly"
   ]
  },
  {
   "cell_type": "code",
   "execution_count": 6,
   "id": "d573b911",
   "metadata": {},
   "outputs": [],
   "source": [
    "gray = cv2.cvtColor(image, cv2.COLOR_BGR2GRAY)\n",
    "gray = cv2.GaussianBlur(gray, (5, 5), 0)"
   ]
  },
  {
   "cell_type": "markdown",
   "id": "e235f268",
   "metadata": {},
   "source": [
    "Threshold the image, then perform a series of erosions and dilations to remove any small regions of noise."
   ]
  },
  {
   "cell_type": "code",
   "execution_count": 7,
   "id": "399191c3",
   "metadata": {},
   "outputs": [],
   "source": [
    "thresh = cv2.threshold(gray, 45, 255, cv2.THRESH_BINARY)[1]\n",
    "thresh = cv2.erode(thresh, None, iterations=2)\n",
    "thresh = cv2.dilate(thresh, None, iterations=2)"
   ]
  },
  {
   "cell_type": "markdown",
   "id": "e272f0ed",
   "metadata": {},
   "source": [
    "thresh = cv2.threshold(gray, 45, 255, cv2.THRESH_BINARY)[1]: This line applies a binary thresholding operation to the grayscale image. The cv2.threshold function is used, which takes four arguments:\n",
    "- The source image (gray) to be thresholded.\n",
    "- The threshold value (45 in this case). Pixel intensities below this threshold will be set to 0, and intensities above or equal to the threshold will be set to the maximum value (255 in this case).\n",
    "- The maximum value to be assigned to pixels that pass the threshold test (255 in this case).\n",
    "- The thresholding type (cv2.THRESH_BINARY). This type specifies that a binary thresholding operation should be applied, where pixel values below the threshold are set to 0, and values above or equal to the threshold are set to the maximum value.\n",
    "- The result of the thresholding operation is returned as a tuple, and we select the second element ([1]) of the tuple, which corresponds to the thresholded image. The thresholded image is stored in the variable thresh.\n",
    "\n",
    "thresh = cv2.erode(thresh, None, iterations=2): This line performs an erosion operation on the thresholded image. The cv2.erode function is used, which takes three arguments:\n",
    "- The source image (thresh) to be eroded.\n",
    "- The kernel used for erosion (None in this case). When set to None, a default 3x3 rectangular kernel is used.\n",
    "- The number of iterations to apply the erosion operation (2 in this case). This determines how many times the erosion operation is applied to the image.\n",
    "- The erosion operation erodes away the boundaries of foreground objects in the image, effectively reducing their size and removing small details or noise.\n",
    "\n",
    "thresh = cv2.dilate(thresh, None, iterations=2): This line performs a dilation operation on the eroded image. The cv2.dilate function is used, which takes the same three arguments as the cv2.erode function.\n",
    "- The source image (thresh) to be dilated.\n",
    "- The kernel used for dilation (None in this case), which defaults to a 3x3 rectangular kernel.\n",
    "- The number of iterations to apply the dilation operation (2 in this case).\n",
    "- The dilation operation expands the boundaries of foreground objects in the image, making them larger and filling in gaps or holes that may exist.\n",
    "\n",
    "These operations are commonly used to separate objects from the background or to extract specific regions of interest based on their intensity values."
   ]
  },
  {
   "cell_type": "markdown",
   "id": "90dd65bb",
   "metadata": {},
   "source": [
    "Find contours in thresholded image, then grab the largest one"
   ]
  },
  {
   "cell_type": "code",
   "execution_count": 8,
   "id": "b1c35877",
   "metadata": {},
   "outputs": [],
   "source": [
    "cnts = cv2.findContours(thresh.copy(), cv2.RETR_EXTERNAL, cv2.CHAIN_APPROX_SIMPLE)\n",
    "cnts = imutils.grab_contours(cnts)\n",
    "c = max(cnts, key=cv2.contourArea)"
   ]
  },
  {
   "cell_type": "markdown",
   "id": "ef7fac95",
   "metadata": {},
   "source": [
    "Find the extreme points"
   ]
  },
  {
   "cell_type": "code",
   "execution_count": 9,
   "id": "40d9838b",
   "metadata": {},
   "outputs": [],
   "source": [
    "extLeft = tuple(c[c[:, :, 0].argmin()][0])\n",
    "extRight = tuple(c[c[:, :, 0].argmax()][0])\n",
    "extTop = tuple(c[c[:, :, 1].argmin()][0])\n",
    "extBot = tuple(c[c[:, :, 1].argmax()][0])"
   ]
  },
  {
   "cell_type": "markdown",
   "id": "975a8e04",
   "metadata": {},
   "source": [
    "Crop new image out of the original image using the four extreme points (left, right, top, bottom)"
   ]
  },
  {
   "cell_type": "code",
   "execution_count": 10,
   "id": "0c3abab2",
   "metadata": {},
   "outputs": [],
   "source": [
    "new_img = image[extTop[1]:extBot[1], extLeft[0]:extRight[0]]  "
   ]
  },
  {
   "cell_type": "markdown",
   "id": "7363a3ab",
   "metadata": {},
   "source": [
    "Plot the original image and the image after the denoising process"
   ]
  },
  {
   "cell_type": "code",
   "execution_count": 12,
   "id": "eb7c3565",
   "metadata": {},
   "outputs": [
    {
     "data": {
      "text/plain": [
       "<matplotlib.image.AxesImage at 0x1920549b410>"
      ]
     },
     "execution_count": 12,
     "metadata": {},
     "output_type": "execute_result"
    },
    {
     "data": {
      "image/png": "[encoded data removed]",
      "text/plain": [
       "<Figure size 640x480 with 1 Axes>"
      ]
     },
     "metadata": {},
     "output_type": "display_data"
    }
   ],
   "source": [
    "from matplotlib import pyplot as plt\n",
    "plt.imshow(new_img)\n"
   ]
  },
  {
   "cell_type": "markdown",
   "id": "424a5d4f",
   "metadata": {},
   "source": [
    "Create a function that do the whole denoising process"
   ]
  },
  {
   "cell_type": "code",
   "execution_count": 13,
   "id": "4c264492",
   "metadata": {},
   "outputs": [],
   "source": [
    "def crop_brain_contour(image):\n",
    "    \n",
    "    # Convert the image to grayscale, and blur it slightly\n",
    "    gray = cv2.cvtColor(image, cv2.COLOR_BGR2GRAY)\n",
    "    gray = cv2.GaussianBlur(gray, (5, 5), 0)\n",
    "\n",
    "\n",
    "    # Threshold the image, then perform a series of erosions +\n",
    "    # dilations to remove any small regions of noise\n",
    "    gray = cv2.threshold(gray, 45, 255, cv2.THRESH_BINARY)[1]\n",
    "    gray = cv2.erode(gray, None, iterations=2)\n",
    "    gray = cv2.dilate(gray, None, iterations=2)\n",
    "\n",
    "    # Find contours in thresholded image, then grab the largest one\n",
    "    cnts = cv2.findContours(gray.copy(), cv2.RETR_EXTERNAL, cv2.CHAIN_APPROX_SIMPLE)\n",
    "    cnts = imutils.grab_contours(cnts)\n",
    "    c = max(cnts, key=cv2.contourArea)\n",
    "\n",
    "    # Find the extreme points\n",
    "    extLeft = tuple(c[c[:, :, 0].argmin()][0])\n",
    "    extRight = tuple(c[c[:, :, 0].argmax()][0])\n",
    "\n",
    "    \n",
    "    # crop new image out of the original image using the four extreme points (left, right, top, bottom)\n",
    "    new_image = image[extTop[1]:extBot[1], extLeft[0]:extRight[0]]             \n",
    "\n",
    "    return new_image"
   ]
  },
  {
   "cell_type": "markdown",
   "id": "ab16d0ae",
   "metadata": {},
   "source": [
    "## Data normalization"
   ]
  },
  {
   "cell_type": "markdown",
   "id": "570ef0f2",
   "metadata": {},
   "source": [
    "Resize the image (width = 240, height = 240)"
   ]
  },
  {
   "cell_type": "code",
   "execution_count": 14,
   "id": "8d1b8e79",
   "metadata": {},
   "outputs": [],
   "source": [
    "IMG_WIDTH, IMG_HEIGHT = (240, 240)\n",
    "image = cv2.imread('yes/Y1.jpg')"
   ]
  },
  {
   "cell_type": "markdown",
   "id": "c9566f44",
   "metadata": {},
   "source": [
    "Normalize image"
   ]
  },
  {
   "cell_type": "code",
   "execution_count": 15,
   "id": "65a7bedb",
   "metadata": {},
   "outputs": [],
   "source": [
    "image = image / 255."
   ]
  },
  {
   "cell_type": "markdown",
   "id": "2663de2b",
   "metadata": {},
   "source": [
    "- image: The variable image contains the image data, which is typically represented as a multi-dimensional array.\n",
    "\n",
    "- / 255: This division operation divides each element in the image array by the value 255.\n",
    "\n",
    "Normalization: By dividing each pixel value by 255, the pixel values are scaled down to the range of 0 to 1. This process is known as normalization, where the pixel intensities are rescaled to a standard range to facilitate further processing or analysis."
   ]
  },
  {
   "cell_type": "markdown",
   "id": "62b24cda",
   "metadata": {},
   "source": [
    "Create a function that do the whole preprocessing steps to the data and return X: processed images as arrays and y: their corresponding labels."
   ]
  },
  {
   "cell_type": "code",
   "execution_count": 30,
   "id": "90956a51",
   "metadata": {},
   "outputs": [],
   "source": [
    "import os\n",
    "import numpy as np\n",
    "from tensorflow.keras.preprocessing.image import load_img, img_to_array\n",
    "from sklearn.utils import shuffle\n",
    "\n",
    "def load_data(dir_list, image_size):\n",
    "    X = []\n",
    "    y = []\n",
    "    image_width, image_height = image_size\n",
    "    \n",
    "    for directory in dir_list:\n",
    "        for filename in os.listdir(directory):\n",
    "            # Construct the full file path\n",
    "            img_path = os.path.join(directory, filename)\n",
    "            \n",
    "            # Load the image\n",
    "            image = load_img(img_path, target_size=(image_width, image_height))\n",
    "            \n",
    "            # Crop and resize the image if needed\n",
    "            image = crop_brain_contour(image)\n",
    "            image = resize_img(image, image_width, image_height)\n",
    "            \n",
    "            # Convert the image to a NumPy array and normalize it\n",
    "            image = img_to_array(image) / 255.0\n",
    "            \n",
    "            # Append image data and label\n",
    "            X.append(image)\n",
    "            \n",
    "            # Determine label based on directory name\n",
    "            if 'yes' in os.path.basename(directory):\n",
    "                y.append(1)\n",
    "            else:\n",
    "                y.append(0)\n",
    "    \n",
    "    X = np.array(X)\n",
    "    y = np.array(y)\n",
    "    \n",
    "    # Shuffle the data\n",
    "    X, y = shuffle(X, y, random_state=42)\n",
    "    \n",
    "    return X, y\n",
    "\n",
    "# Example of usage:\n",
    "# augmented_path = 'augmented data/'\n",
    "# augmented_yes = os.path.join(augmented_path, 'yes')\n",
    "# augmented_no = os.path.join(augmented_path, 'no')\n",
    "# IMG_WIDTH, IMG_HEIGHT = 240, 240\n",
    "# X, y = load_data([augmented_yes, augmented_no], (IMG_WIDTH, IMG_HEIGHT))\n",
    "def crop_brain_contour(image):\n",
    "    # Your implementation for cropping the brain contour\n",
    "    # Convert to NumPy array if needed\n",
    "    return image\n",
    "\n",
    "def resize_img(image, width, height):\n",
    "    # Your implementation for resizing the image\n",
    "    return image\n",
    "\n"
   ]
  },
  {
   "cell_type": "markdown",
   "id": "dceebe48",
   "metadata": {},
   "source": [
    "Call the function to load our data"
   ]
  },
  {
   "cell_type": "code",
   "execution_count": 31,
   "id": "5ce5d1e6",
   "metadata": {},
   "outputs": [],
   "source": [
    "augmented_path = 'augmented data/'\n",
    "\n",
    "augmented_yes = augmented_path + 'yes' \n",
    "augmented_no = augmented_path + 'no' \n",
    "\n",
    "IMG_WIDTH, IMG_HEIGHT = (240, 240)\n",
    "\n",
    "X, y = load_data([augmented_yes, augmented_no], [IMG_WIDTH, IMG_HEIGHT])\n"
   ]
  },
  {
   "cell_type": "markdown",
   "id": "5d7c4287",
   "metadata": {},
   "source": [
    "Create a function that splits the dataset into training, validation, and testing sets using the train_test_split function. "
   ]
  },
  {
   "cell_type": "code",
   "execution_count": 32,
   "id": "9c3a782d",
   "metadata": {},
   "outputs": [],
   "source": [
    "def split_data(X, y, test_size):\n",
    "    X_train, X_test_val, y_train, y_test_val = train_test_split(X, y, test_size=test_size)\n",
    "    X_test, X_val, y_test, y_val = train_test_split(X_test_val, y_test_val, test_size=0.5)\n",
    "    \n",
    "    return X_train, y_train, X_val, y_val, X_test, y_test"
   ]
  },
  {
   "cell_type": "markdown",
   "id": "af38bda8",
   "metadata": {},
   "source": [
    "Call that function to split the data. the proportion of the dataset to be allocated for testing and validation is 30%."
   ]
  },
  {
   "cell_type": "code",
   "execution_count": 34,
   "id": "200be70b",
   "metadata": {},
   "outputs": [],
   "source": [
    "X_train, y_train, X_val, y_val, X_test, y_test = split_data(X, y, 0.15)"
   ]
  },
  {
   "cell_type": "markdown",
   "id": "14e1a168",
   "metadata": {},
   "source": [
    "# Build and train models for Brain Tumor Detection using SKLEARN pipelines "
   ]
  },
  {
   "cell_type": "markdown",
   "id": "bd0c5fa8",
   "metadata": {},
   "source": [
    "Flatten the input images to a 1D array"
   ]
  },
  {
   "cell_type": "code",
   "execution_count": 35,
   "id": "d94e37da",
   "metadata": {},
   "outputs": [],
   "source": [
    "X_train_flat = X_train.reshape(X_train.shape[0], -1)\n",
    "X_val_flat = X_val.reshape(X_val.shape[0], -1)\n",
    "X_test_flat = X_test.reshape(X_test.shape[0], -1)"
   ]
  },
  {
   "cell_type": "markdown",
   "id": "0ed8526b",
   "metadata": {},
   "source": [
    "Flattening the images is commonly performed when using traditional machine learning algorithms, which do not inherently handle multi-dimensional data. It simplifies the data representation and ensures that the algorithm can interpret the input correctly."
   ]
  },
  {
   "cell_type": "markdown",
   "id": "2e8d0f7f",
   "metadata": {},
   "source": [
    "## Naive Bayes Classifier"
   ]
  },
  {
   "cell_type": "markdown",
   "id": "d96a39ce",
   "metadata": {},
   "source": [
    "Create an instance of the NB classifier"
   ]
  },
  {
   "cell_type": "code",
   "execution_count": 36,
   "id": "22ad7f11",
   "metadata": {},
   "outputs": [],
   "source": [
    "from sklearn.naive_bayes import MultinomialNB\n",
    "from sklearn.metrics import accuracy_score, confusion_matrix\n",
    "NB = MultinomialNB()"
   ]
  },
  {
   "cell_type": "markdown",
   "id": "96173d5b",
   "metadata": {},
   "source": [
    "Train the SVM model on the training data"
   ]
  },
  {
   "cell_type": "code",
   "execution_count": 37,
   "id": "ddd3a8d3",
   "metadata": {},
   "outputs": [
    {
     "data": {
      "text/html": [
       "<style>#sk-container-id-1 {\n",
       "  /* Definition of color scheme common for light and dark mode */\n",
       "  --sklearn-color-text: black;\n",
       "  --sklearn-color-line: gray;\n",
       "  /* Definition of color scheme for unfitted estimators */\n",
       "  --sklearn-color-unfitted-level-0: #fff5e6;\n",
       "  --sklearn-color-unfitted-level-1: #f6e4d2;\n",
       "  --sklearn-color-unfitted-level-2: #ffe0b3;\n",
       "  --sklearn-color-unfitted-level-3: chocolate;\n",
       "  /* Definition of color scheme for fitted estimators */\n",
       "  --sklearn-color-fitted-level-0: #f0f8ff;\n",
       "  --sklearn-color-fitted-level-1: #d4ebff;\n",
       "  --sklearn-color-fitted-level-2: #b3dbfd;\n",
       "  --sklearn-color-fitted-level-3: cornflowerblue;\n",
       "\n",
       "  /* Specific color for light theme */\n",
       "  --sklearn-color-text-on-default-background: var(--sg-text-color, var(--theme-code-foreground, var(--jp-content-font-color1, black)));\n",
       "  --sklearn-color-background: var(--sg-background-color, var(--theme-background, var(--jp-layout-color0, white)));\n",
       "  --sklearn-color-border-box: var(--sg-text-color, var(--theme-code-foreground, var(--jp-content-font-color1, black)));\n",
       "  --sklearn-color-icon: #696969;\n",
       "\n",
       "  @media (prefers-color-scheme: dark) {\n",
       "    /* Redefinition of color scheme for dark theme */\n",
       "    --sklearn-color-text-on-default-background: var(--sg-text-color, var(--theme-code-foreground, var(--jp-content-font-color1, white)));\n",
       "    --sklearn-color-background: var(--sg-background-color, var(--theme-background, var(--jp-layout-color0, #111)));\n",
       "    --sklearn-color-border-box: var(--sg-text-color, var(--theme-code-foreground, var(--jp-content-font-color1, white)));\n",
       "    --sklearn-color-icon: #878787;\n",
       "  }\n",
       "}\n",
       "\n",
       "#sk-container-id-1 {\n",
       "  color: var(--sklearn-color-text);\n",
       "}\n",
       "\n",
       "#sk-container-id-1 pre {\n",
       "  padding: 0;\n",
       "}\n",
       "\n",
       "#sk-container-id-1 input.sk-hidden--visually {\n",
       "  border: 0;\n",
       "  clip: rect(1px 1px 1px 1px);\n",
       "  clip: rect(1px, 1px, 1px, 1px);\n",
       "  height: 1px;\n",
       "  margin: -1px;\n",
       "  overflow: hidden;\n",
       "  padding: 0;\n",
       "  position: absolute;\n",
       "  width: 1px;\n",
       "}\n",
       "\n",
       "#sk-container-id-1 div.sk-dashed-wrapped {\n",
       "  border: 1px dashed var(--sklearn-color-line);\n",
       "  margin: 0 0.4em 0.5em 0.4em;\n",
       "  box-sizing: border-box;\n",
       "  padding-bottom: 0.4em;\n",
       "  background-color: var(--sklearn-color-background);\n",
       "}\n",
       "\n",
       "#sk-container-id-1 div.sk-container {\n",
       "  /* jupyter's `normalize.less` sets `[hidden] { display: none; }`\n",
       "     but bootstrap.min.css set `[hidden] { display: none !important; }`\n",
       "     so we also need the `!important` here to be able to override the\n",
       "     default hidden behavior on the sphinx rendered scikit-learn.org.\n",
       "     See: https://github.com/scikit-learn/scikit-learn/issues/21755 */\n",
       "  display: inline-block !important;\n",
       "  position: relative;\n",
       "}\n",
       "\n",
       "#sk-container-id-1 div.sk-text-repr-fallback {\n",
       "  display: none;\n",
       "}\n",
       "\n",
       "div.sk-parallel-item,\n",
       "div.sk-serial,\n",
       "div.sk-item {\n",
       "  /* draw centered vertical line to link estimators */\n",
       "  background-image: linear-gradient(var(--sklearn-color-text-on-default-background), var(--sklearn-color-text-on-default-background));\n",
       "  background-size: 2px 100%;\n",
       "  background-repeat: no-repeat;\n",
       "  background-position: center center;\n",
       "}\n",
       "\n",
       "/* Parallel-specific style estimator block */\n",
       "\n",
       "#sk-container-id-1 div.sk-parallel-item::after {\n",
       "  content: \"\";\n",
       "  width: 100%;\n",
       "  border-bottom: 2px solid var(--sklearn-color-text-on-default-background);\n",
       "  flex-grow: 1;\n",
       "}\n",
       "\n",
       "#sk-container-id-1 div.sk-parallel {\n",
       "  display: flex;\n",
       "  align-items: stretch;\n",
       "  justify-content: center;\n",
       "  background-color: var(--sklearn-color-background);\n",
       "  position: relative;\n",
       "}\n",
       "\n",
       "#sk-container-id-1 div.sk-parallel-item {\n",
       "  display: flex;\n",
       "  flex-direction: column;\n",
       "}\n",
       "\n",
       "#sk-container-id-1 div.sk-parallel-item:first-child::after {\n",
       "  align-self: flex-end;\n",
       "  width: 50%;\n",
       "}\n",
       "\n",
       "#sk-container-id-1 div.sk-parallel-item:last-child::after {\n",
       "  align-self: flex-start;\n",
       "  width: 50%;\n",
       "}\n",
       "\n",
       "#sk-container-id-1 div.sk-parallel-item:only-child::after {\n",
       "  width: 0;\n",
       "}\n",
       "\n",
       "/* Serial-specific style estimator block */\n",
       "\n",
       "#sk-container-id-1 div.sk-serial {\n",
       "  display: flex;\n",
       "  flex-direction: column;\n",
       "  align-items: center;\n",
       "  background-color: var(--sklearn-color-background);\n",
       "  padding-right: 1em;\n",
       "  padding-left: 1em;\n",
       "}\n",
       "\n",
       "\n",
       "/* Toggleable style: style used for estimator/Pipeline/ColumnTransformer box that is\n",
       "clickable and can be expanded/collapsed.\n",
       "- Pipeline and ColumnTransformer use this feature and define the default style\n",
       "- Estimators will overwrite some part of the style using the `sk-estimator` class\n",
       "*/\n",
       "\n",
       "/* Pipeline and ColumnTransformer style (default) */\n",
       "\n",
       "#sk-container-id-1 div.sk-toggleable {\n",
       "  /* Default theme specific background. It is overwritten whether we have a\n",
       "  specific estimator or a Pipeline/ColumnTransformer */\n",
       "  background-color: var(--sklearn-color-background);\n",
       "}\n",
       "\n",
       "/* Toggleable label */\n",
       "#sk-container-id-1 label.sk-toggleable__label {\n",
       "  cursor: pointer;\n",
       "  display: block;\n",
       "  width: 100%;\n",
       "  margin-bottom: 0;\n",
       "  padding: 0.5em;\n",
       "  box-sizing: border-box;\n",
       "  text-align: center;\n",
       "}\n",
       "\n",
       "#sk-container-id-1 label.sk-toggleable__label-arrow:before {\n",
       "  /* Arrow on the left of the label */\n",
       "  content: \"▸\";\n",
       "  float: left;\n",
       "  margin-right: 0.25em;\n",
       "  color: var(--sklearn-color-icon);\n",
       "}\n",
       "\n",
       "#sk-container-id-1 label.sk-toggleable__label-arrow:hover:before {\n",
       "  color: var(--sklearn-color-text);\n",
       "}\n",
       "\n",
       "/* Toggleable content - dropdown */\n",
       "\n",
       "#sk-container-id-1 div.sk-toggleable__content {\n",
       "  max-height: 0;\n",
       "  max-width: 0;\n",
       "  overflow: hidden;\n",
       "  text-align: left;\n",
       "  /* unfitted */\n",
       "  background-color: var(--sklearn-color-unfitted-level-0);\n",
       "}\n",
       "\n",
       "#sk-container-id-1 div.sk-toggleable__content.fitted {\n",
       "  /* fitted */\n",
       "  background-color: var(--sklearn-color-fitted-level-0);\n",
       "}\n",
       "\n",
       "#sk-container-id-1 div.sk-toggleable__content pre {\n",
       "  margin: 0.2em;\n",
       "  border-radius: 0.25em;\n",
       "  color: var(--sklearn-color-text);\n",
       "  /* unfitted */\n",
       "  background-color: var(--sklearn-color-unfitted-level-0);\n",
       "}\n",
       "\n",
       "#sk-container-id-1 div.sk-toggleable__content.fitted pre {\n",
       "  /* unfitted */\n",
       "  background-color: var(--sklearn-color-fitted-level-0);\n",
       "}\n",
       "\n",
       "#sk-container-id-1 input.sk-toggleable__control:checked~div.sk-toggleable__content {\n",
       "  /* Expand drop-down */\n",
       "  max-height: 200px;\n",
       "  max-width: 100%;\n",
       "  overflow: auto;\n",
       "}\n",
       "\n",
       "#sk-container-id-1 input.sk-toggleable__control:checked~label.sk-toggleable__label-arrow:before {\n",
       "  content: \"▾\";\n",
       "}\n",
       "\n",
       "/* Pipeline/ColumnTransformer-specific style */\n",
       "\n",
       "#sk-container-id-1 div.sk-label input.sk-toggleable__control:checked~label.sk-toggleable__label {\n",
       "  color: var(--sklearn-color-text);\n",
       "  background-color: var(--sklearn-color-unfitted-level-2);\n",
       "}\n",
       "\n",
       "#sk-container-id-1 div.sk-label.fitted input.sk-toggleable__control:checked~label.sk-toggleable__label {\n",
       "  background-color: var(--sklearn-color-fitted-level-2);\n",
       "}\n",
       "\n",
       "/* Estimator-specific style */\n",
       "\n",
       "/* Colorize estimator box */\n",
       "#sk-container-id-1 div.sk-estimator input.sk-toggleable__control:checked~label.sk-toggleable__label {\n",
       "  /* unfitted */\n",
       "  background-color: var(--sklearn-color-unfitted-level-2);\n",
       "}\n",
       "\n",
       "#sk-container-id-1 div.sk-estimator.fitted input.sk-toggleable__control:checked~label.sk-toggleable__label {\n",
       "  /* fitted */\n",
       "  background-color: var(--sklearn-color-fitted-level-2);\n",
       "}\n",
       "\n",
       "#sk-container-id-1 div.sk-label label.sk-toggleable__label,\n",
       "#sk-container-id-1 div.sk-label label {\n",
       "  /* The background is the default theme color */\n",
       "  color: var(--sklearn-color-text-on-default-background);\n",
       "}\n",
       "\n",
       "/* On hover, darken the color of the background */\n",
       "#sk-container-id-1 div.sk-label:hover label.sk-toggleable__label {\n",
       "  color: var(--sklearn-color-text);\n",
       "  background-color: var(--sklearn-color-unfitted-level-2);\n",
       "}\n",
       "\n",
       "/* Label box, darken color on hover, fitted */\n",
       "#sk-container-id-1 div.sk-label.fitted:hover label.sk-toggleable__label.fitted {\n",
       "  color: var(--sklearn-color-text);\n",
       "  background-color: var(--sklearn-color-fitted-level-2);\n",
       "}\n",
       "\n",
       "/* Estimator label */\n",
       "\n",
       "#sk-container-id-1 div.sk-label label {\n",
       "  font-family: monospace;\n",
       "  font-weight: bold;\n",
       "  display: inline-block;\n",
       "  line-height: 1.2em;\n",
       "}\n",
       "\n",
       "#sk-container-id-1 div.sk-label-container {\n",
       "  text-align: center;\n",
       "}\n",
       "\n",
       "/* Estimator-specific */\n",
       "#sk-container-id-1 div.sk-estimator {\n",
       "  font-family: monospace;\n",
       "  border: 1px dotted var(--sklearn-color-border-box);\n",
       "  border-radius: 0.25em;\n",
       "  box-sizing: border-box;\n",
       "  margin-bottom: 0.5em;\n",
       "  /* unfitted */\n",
       "  background-color: var(--sklearn-color-unfitted-level-0);\n",
       "}\n",
       "\n",
       "#sk-container-id-1 div.sk-estimator.fitted {\n",
       "  /* fitted */\n",
       "  background-color: var(--sklearn-color-fitted-level-0);\n",
       "}\n",
       "\n",
       "/* on hover */\n",
       "#sk-container-id-1 div.sk-estimator:hover {\n",
       "  /* unfitted */\n",
       "  background-color: var(--sklearn-color-unfitted-level-2);\n",
       "}\n",
       "\n",
       "#sk-container-id-1 div.sk-estimator.fitted:hover {\n",
       "  /* fitted */\n",
       "  background-color: var(--sklearn-color-fitted-level-2);\n",
       "}\n",
       "\n",
       "/* Specification for estimator info (e.g. \"i\" and \"?\") */\n",
       "\n",
       "/* Common style for \"i\" and \"?\" */\n",
       "\n",
       ".sk-estimator-doc-link,\n",
       "a:link.sk-estimator-doc-link,\n",
       "a:visited.sk-estimator-doc-link {\n",
       "  float: right;\n",
       "  font-size: smaller;\n",
       "  line-height: 1em;\n",
       "  font-family: monospace;\n",
       "  background-color: var(--sklearn-color-background);\n",
       "  border-radius: 1em;\n",
       "  height: 1em;\n",
       "  width: 1em;\n",
       "  text-decoration: none !important;\n",
       "  margin-left: 1ex;\n",
       "  /* unfitted */\n",
       "  border: var(--sklearn-color-unfitted-level-1) 1pt solid;\n",
       "  color: var(--sklearn-color-unfitted-level-1);\n",
       "}\n",
       "\n",
       ".sk-estimator-doc-link.fitted,\n",
       "a:link.sk-estimator-doc-link.fitted,\n",
       "a:visited.sk-estimator-doc-link.fitted {\n",
       "  /* fitted */\n",
       "  border: var(--sklearn-color-fitted-level-1) 1pt solid;\n",
       "  color: var(--sklearn-color-fitted-level-1);\n",
       "}\n",
       "\n",
       "/* On hover */\n",
       "div.sk-estimator:hover .sk-estimator-doc-link:hover,\n",
       ".sk-estimator-doc-link:hover,\n",
       "div.sk-label-container:hover .sk-estimator-doc-link:hover,\n",
       ".sk-estimator-doc-link:hover {\n",
       "  /* unfitted */\n",
       "  background-color: var(--sklearn-color-unfitted-level-3);\n",
       "  color: var(--sklearn-color-background);\n",
       "  text-decoration: none;\n",
       "}\n",
       "\n",
       "div.sk-estimator.fitted:hover .sk-estimator-doc-link.fitted:hover,\n",
       ".sk-estimator-doc-link.fitted:hover,\n",
       "div.sk-label-container:hover .sk-estimator-doc-link.fitted:hover,\n",
       ".sk-estimator-doc-link.fitted:hover {\n",
       "  /* fitted */\n",
       "  background-color: var(--sklearn-color-fitted-level-3);\n",
       "  color: var(--sklearn-color-background);\n",
       "  text-decoration: none;\n",
       "}\n",
       "\n",
       "/* Span, style for the box shown on hovering the info icon */\n",
       ".sk-estimator-doc-link span {\n",
       "  display: none;\n",
       "  z-index: 9999;\n",
       "  position: relative;\n",
       "  font-weight: normal;\n",
       "  right: .2ex;\n",
       "  padding: .5ex;\n",
       "  margin: .5ex;\n",
       "  width: min-content;\n",
       "  min-width: 20ex;\n",
       "  max-width: 50ex;\n",
       "  color: var(--sklearn-color-text);\n",
       "  box-shadow: 2pt 2pt 4pt #999;\n",
       "  /* unfitted */\n",
       "  background: var(--sklearn-color-unfitted-level-0);\n",
       "  border: .5pt solid var(--sklearn-color-unfitted-level-3);\n",
       "}\n",
       "\n",
       ".sk-estimator-doc-link.fitted span {\n",
       "  /* fitted */\n",
       "  background: var(--sklearn-color-fitted-level-0);\n",
       "  border: var(--sklearn-color-fitted-level-3);\n",
       "}\n",
       "\n",
       ".sk-estimator-doc-link:hover span {\n",
       "  display: block;\n",
       "}\n",
       "\n",
       "/* \"?\"-specific style due to the `<a>` HTML tag */\n",
       "\n",
       "#sk-container-id-1 a.estimator_doc_link {\n",
       "  float: right;\n",
       "  font-size: 1rem;\n",
       "  line-height: 1em;\n",
       "  font-family: monospace;\n",
       "  background-color: var(--sklearn-color-background);\n",
       "  border-radius: 1rem;\n",
       "  height: 1rem;\n",
       "  width: 1rem;\n",
       "  text-decoration: none;\n",
       "  /* unfitted */\n",
       "  color: var(--sklearn-color-unfitted-level-1);\n",
       "  border: var(--sklearn-color-unfitted-level-1) 1pt solid;\n",
       "}\n",
       "\n",
       "#sk-container-id-1 a.estimator_doc_link.fitted {\n",
       "  /* fitted */\n",
       "  border: var(--sklearn-color-fitted-level-1) 1pt solid;\n",
       "  color: var(--sklearn-color-fitted-level-1);\n",
       "}\n",
       "\n",
       "/* On hover */\n",
       "#sk-container-id-1 a.estimator_doc_link:hover {\n",
       "  /* unfitted */\n",
       "  background-color: var(--sklearn-color-unfitted-level-3);\n",
       "  color: var(--sklearn-color-background);\n",
       "  text-decoration: none;\n",
       "}\n",
       "\n",
       "#sk-container-id-1 a.estimator_doc_link.fitted:hover {\n",
       "  /* fitted */\n",
       "  background-color: var(--sklearn-color-fitted-level-3);\n",
       "}\n",
       "</style><div id=\"sk-container-id-1\" class=\"sk-top-container\"><div class=\"sk-text-repr-fallback\"><pre>MultinomialNB()</pre><b>In a Jupyter environment, please rerun this cell to show the HTML representation or trust the notebook. <br />On GitHub, the HTML representation is unable to render, please try loading this page with nbviewer.org.</b></div><div class=\"sk-container\" hidden><div class=\"sk-item\"><div class=\"sk-estimator fitted sk-toggleable\"><input class=\"sk-toggleable__control sk-hidden--visually\" id=\"sk-estimator-id-1\" type=\"checkbox\" checked><label for=\"sk-estimator-id-1\" class=\"sk-toggleable__label fitted sk-toggleable__label-arrow fitted\">&nbsp;&nbsp;MultinomialNB<a class=\"sk-estimator-doc-link fitted\" rel=\"noreferrer\" target=\"_blank\" href=\"https://scikit-learn.org/1.5/modules/generated/sklearn.naive_bayes.MultinomialNB.html\">?<span>Documentation for MultinomialNB</span></a><span class=\"sk-estimator-doc-link fitted\">i<span>Fitted</span></span></label><div class=\"sk-toggleable__content fitted\"><pre>MultinomialNB()</pre></div> </div></div></div></div>"
      ],
      "text/plain": [
       "MultinomialNB()"
      ]
     },
     "execution_count": 37,
     "metadata": {},
     "output_type": "execute_result"
    }
   ],
   "source": [
    "NB.fit(X_train_flat, y_train)"
   ]
  },
  {
   "cell_type": "markdown",
   "id": "f18e0dc5",
   "metadata": {},
   "source": [
    "Make predictions on the test set"
   ]
  },
  {
   "cell_type": "code",
   "execution_count": 38,
   "id": "35ac0737",
   "metadata": {},
   "outputs": [],
   "source": [
    "NB_pred = NB.predict(X_test_flat)"
   ]
  },
  {
   "cell_type": "markdown",
   "id": "d16fc333",
   "metadata": {},
   "source": [
    "Evaluate the model on the test set (create the classification report)"
   ]
  },
  {
   "cell_type": "code",
   "execution_count": 39,
   "id": "a93dd09c",
   "metadata": {},
   "outputs": [
    {
     "name": "stdout",
     "output_type": "stream",
     "text": [
      "                         precision    recall  f1-score   support\n",
      "\n",
      "No Brain Tumor Detected       0.46      0.72      0.56       107\n",
      "   Brain Tumor Detected       0.83      0.62      0.71       240\n",
      "\n",
      "               accuracy                           0.65       347\n",
      "              macro avg       0.64      0.67      0.63       347\n",
      "           weighted avg       0.72      0.65      0.66       347\n",
      "\n",
      "accuracy score 0.6484149855907781\n"
     ]
    }
   ],
   "source": [
    "print(classification_report(y_test, NB_pred,target_names=[\"No Brain Tumor Detected\", \"Brain Tumor Detected\"]))\n",
    "print('accuracy score %s' % accuracy_score(y_test, NB_pred))"
   ]
  },
  {
   "cell_type": "markdown",
   "id": "dc253d10",
   "metadata": {},
   "source": [
    " ## Support Vector Machine"
   ]
  },
  {
   "cell_type": "markdown",
   "id": "3618271b",
   "metadata": {},
   "source": [
    "Same process using SVM"
   ]
  },
  {
   "cell_type": "code",
   "execution_count": 41,
   "id": "321fad12",
   "metadata": {},
   "outputs": [
    {
     "name": "stdout",
     "output_type": "stream",
     "text": [
      "Accuracy: 0.8155619596541787\n"
     ]
    }
   ],
   "source": [
    "from sklearn.svm import SVC\n",
    "from sklearn.utils import shuffle\n",
    "\n",
    "# Example: Flattening the image data\n",
    "def flatten_images(X):\n",
    "    # Assuming X is of shape (num_samples, height, width, channels)\n",
    "    num_samples, height, width, channels = X.shape\n",
    "    return X.reshape(num_samples, height * width * channels)\n",
    "\n",
    "# Flatten the training and test images\n",
    "X_train_flattened = flatten_images(X_train)\n",
    "X_test_flattened = flatten_images(X_test)\n",
    "\n",
    "# Create an instance of the classifier\n",
    "instance = SVC()\n",
    "\n",
    "# Train the model on the training data\n",
    "train = instance.fit(X_train_flattened, y_train)\n",
    "\n",
    "# Make predictions on the test set\n",
    "pred = train.predict(X_test_flattened)\n",
    "\n",
    "# Evaluate the model on the test set\n",
    "eval = train.score(X_test_flattened, y_test)\n",
    "\n",
    "print(f\"Accuracy: {eval}\")\n"
   ]
  },
  {
   "cell_type": "markdown",
   "id": "e89e2038",
   "metadata": {},
   "source": [
    "## Logistic Regression"
   ]
  },
  {
   "cell_type": "markdown",
   "id": "f326fc65",
   "metadata": {},
   "source": [
    "Same process using LR"
   ]
  },
  {
   "cell_type": "code",
   "execution_count": 42,
   "id": "f6736125",
   "metadata": {},
   "outputs": [
    {
     "name": "stderr",
     "output_type": "stream",
     "text": [
      "c:\\Users\\omidk\\notebook\\neuroscan\\NeuroScan\\tf_env\\Lib\\site-packages\\sklearn\\linear_model\\_logistic.py:469: ConvergenceWarning: lbfgs failed to converge (status=1):\n",
      "STOP: TOTAL NO. of ITERATIONS REACHED LIMIT.\n",
      "\n",
      "Increase the number of iterations (max_iter) or scale the data as shown in:\n",
      "    https://scikit-learn.org/stable/modules/preprocessing.html\n",
      "Please also refer to the documentation for alternative solver options:\n",
      "    https://scikit-learn.org/stable/modules/linear_model.html#logistic-regression\n",
      "  n_iter_i = _check_optimize_result(\n"
     ]
    }
   ],
   "source": [
    "from sklearn.linear_model import LogisticRegression\n",
    "\n",
    "# Create an instance of the classifier\n",
    "SVM = LogisticRegression()\n",
    "\n",
    "# Train the model on the training data\n",
    "SVM.fit(X_train_flat, y_train)\n",
    "\n",
    "# Make predictions on the test set\n",
    "pred = SVM.predict(X_test_flat)\n",
    "\n",
    "# Evaluate the model on the test set\n",
    "eval = SVM.score(X_test_flat, y_test)"
   ]
  },
  {
   "cell_type": "markdown",
   "id": "ae1d69f3",
   "metadata": {},
   "source": [
    "Save the best model using pickle"
   ]
  },
  {
   "cell_type": "code",
   "execution_count": 44,
   "id": "539fecc8",
   "metadata": {},
   "outputs": [],
   "source": [
    "if not os.path.exists('models'):\n",
    "    os.makedirs('models')\n",
    "directory = 'models'\n",
    "if not os.path.exists(directory):\n",
    "    os.makedirs(directory)\n",
    "filename = 'models/svm_classifier.sav'\n",
    "pickle.dump(SVM, open(filename, 'wb'))"
   ]
  },
  {
   "cell_type": "markdown",
   "id": "d1125ac6",
   "metadata": {},
   "source": [
    "Import the model"
   ]
  },
  {
   "cell_type": "code",
   "execution_count": 45,
   "id": "d9fb71b6",
   "metadata": {},
   "outputs": [],
   "source": [
    "filename = 'models/svm_classifier.sav'\n",
    "loaded_model = pickle.load(open(filename, 'rb'))"
   ]
  },
  {
   "cell_type": "markdown",
   "id": "3722e2a9",
   "metadata": {},
   "source": [
    "Create a function that takes the path of an image and returns if it contains brain tumor or not using the loaded model"
   ]
  },
  {
   "cell_type": "code",
   "execution_count": 46,
   "id": "d7a28fda",
   "metadata": {},
   "outputs": [],
   "source": [
    "def predict(image_path):\n",
    "    image = cv2.imread(image_path)\n",
    "    image = crop_brain_contour(image)\n",
    "    image = cv2.resize(image, (IMG_WIDTH, IMG_HEIGHT))\n",
    "    image = image / 255.\n",
    "    image_flat = image.reshape(1, -1)\n",
    "\n",
    "    prediction = loaded_model.predict(image_flat)\n",
    "\n",
    "    if prediction[0] == 1:\n",
    "        return \"Brain Tumor Detected\"\n",
    "    else:\n",
    "        return \"No Brain Tumor Detected\""
   ]
  },
  {
   "cell_type": "markdown",
   "id": "5fcfdbb4",
   "metadata": {},
   "source": [
    "Use the predict function"
   ]
  },
  {
   "cell_type": "code",
   "execution_count": 48,
   "id": "43ee4e19",
   "metadata": {},
   "outputs": [
    {
     "data": {
      "text/plain": [
       "'Brain Tumor Detected'"
      ]
     },
     "execution_count": 48,
     "metadata": {},
     "output_type": "execute_result"
    }
   ],
   "source": [
    "predict('yes/Y2.jpg')\n"
   ]
  },
  {
   "cell_type": "markdown",
   "id": "00908202",
   "metadata": {},
   "source": [
    "# Build and train models for Brain Tumor Detection using Neural Networks (CNN) "
   ]
  },
  {
   "cell_type": "markdown",
   "id": "7d61ed88",
   "metadata": {},
   "source": [
    "Create a function to build the model"
   ]
  },
  {
   "cell_type": "code",
   "execution_count": 49,
   "id": "c5d8d265",
   "metadata": {},
   "outputs": [],
   "source": [
    "def build_model(input_shape):\n",
    "    # Define the input placeholder as a tensor with shape input_shape. \n",
    "    X_input = Input(input_shape) \n",
    "    \n",
    "    # Apply zero-padding to the input tensor\n",
    "    X = ZeroPadding2D((2, 2))(X_input) \n",
    "    \n",
    "    # Apply a convolutional layer followed by batch normalization and ReLU activation\n",
    "    X = Conv2D(32, (7, 7), strides = (1, 1), name = 'conv0')(X)\n",
    "    X = BatchNormalization(axis = 3, name = 'bn0')(X)\n",
    "    X = Activation('relu')(X) \n",
    "    \n",
    "    # Apply max pooling to reduce spatial dimensions\n",
    "    X = MaxPooling2D((4, 4), name='max_pool0')(X) \n",
    "    X = MaxPooling2D((4, 4), name='max_pool1')(X) \n",
    "    \n",
    "    # Flatten the tensor to prepare for the fully connected layers\n",
    "    X = Flatten()(X) \n",
    "    # Apply a fully connected layer with a sigmoid activation to obtain the final output\n",
    "    X = Dense(1, activation='sigmoid', name='fc')(X) \n",
    "    \n",
    "    # Create the model instance using the input and output tensors\n",
    "    model = Model(inputs = X_input, outputs = X, name='BrainDetectionModel')\n",
    "    \n",
    "    return model"
   ]
  },
  {
   "cell_type": "markdown",
   "id": "104d2a8c",
   "metadata": {},
   "source": [
    "Define the image shape and build the model"
   ]
  },
  {
   "cell_type": "code",
   "execution_count": 50,
   "id": "73b95510",
   "metadata": {},
   "outputs": [],
   "source": [
    "IMG_SHAPE = (IMG_WIDTH, IMG_HEIGHT, 3)\n",
    "model = build_model(IMG_SHAPE)"
   ]
  },
  {
   "cell_type": "markdown",
   "id": "586dfba7",
   "metadata": {},
   "source": [
    "Show the model summary"
   ]
  },
  {
   "cell_type": "code",
   "execution_count": 51,
   "id": "9c6883a4",
   "metadata": {},
   "outputs": [
    {
     "data": {
      "text/html": [
       "<pre style=\"white-space:pre;overflow-x:auto;line-height:normal;font-family:Menlo,'DejaVu Sans Mono',consolas,'Courier New',monospace\"><span style=\"font-weight: bold\">Model: \"BrainDetectionModel\"</span>\n",
       "</pre>\n"
      ],
      "text/plain": [
       "\u001b[1mModel: \"BrainDetectionModel\"\u001b[0m\n"
      ]
     },
     "metadata": {},
     "output_type": "display_data"
    },
    {
     "data": {
      "text/html": [
       "<pre style=\"white-space:pre;overflow-x:auto;line-height:normal;font-family:Menlo,'DejaVu Sans Mono',consolas,'Courier New',monospace\">┏━━━━━━━━━━━━━━━━━━━━━━━━━━━━━━━━━┳━━━━━━━━━━━━━━━━━━━━━━━━┳━━━━━━━━━━━━━━━┓\n",
       "┃<span style=\"font-weight: bold\"> Layer (type)                    </span>┃<span style=\"font-weight: bold\"> Output Shape           </span>┃<span style=\"font-weight: bold\">       Param # </span>┃\n",
       "┡━━━━━━━━━━━━━━━━━━━━━━━━━━━━━━━━━╇━━━━━━━━━━━━━━━━━━━━━━━━╇━━━━━━━━━━━━━━━┩\n",
       "│ input_layer (<span style=\"color: #0087ff; text-decoration-color: #0087ff\">InputLayer</span>)        │ (<span style=\"color: #00d7ff; text-decoration-color: #00d7ff\">None</span>, <span style=\"color: #00af00; text-decoration-color: #00af00\">240</span>, <span style=\"color: #00af00; text-decoration-color: #00af00\">240</span>, <span style=\"color: #00af00; text-decoration-color: #00af00\">3</span>)    │             <span style=\"color: #00af00; text-decoration-color: #00af00\">0</span> │\n",
       "├─────────────────────────────────┼────────────────────────┼───────────────┤\n",
       "│ zero_padding2d (<span style=\"color: #0087ff; text-decoration-color: #0087ff\">ZeroPadding2D</span>)  │ (<span style=\"color: #00d7ff; text-decoration-color: #00d7ff\">None</span>, <span style=\"color: #00af00; text-decoration-color: #00af00\">244</span>, <span style=\"color: #00af00; text-decoration-color: #00af00\">244</span>, <span style=\"color: #00af00; text-decoration-color: #00af00\">3</span>)    │             <span style=\"color: #00af00; text-decoration-color: #00af00\">0</span> │\n",
       "├─────────────────────────────────┼────────────────────────┼───────────────┤\n",
       "│ conv0 (<span style=\"color: #0087ff; text-decoration-color: #0087ff\">Conv2D</span>)                  │ (<span style=\"color: #00d7ff; text-decoration-color: #00d7ff\">None</span>, <span style=\"color: #00af00; text-decoration-color: #00af00\">238</span>, <span style=\"color: #00af00; text-decoration-color: #00af00\">238</span>, <span style=\"color: #00af00; text-decoration-color: #00af00\">32</span>)   │         <span style=\"color: #00af00; text-decoration-color: #00af00\">4,736</span> │\n",
       "├─────────────────────────────────┼────────────────────────┼───────────────┤\n",
       "│ bn0 (<span style=\"color: #0087ff; text-decoration-color: #0087ff\">BatchNormalization</span>)        │ (<span style=\"color: #00d7ff; text-decoration-color: #00d7ff\">None</span>, <span style=\"color: #00af00; text-decoration-color: #00af00\">238</span>, <span style=\"color: #00af00; text-decoration-color: #00af00\">238</span>, <span style=\"color: #00af00; text-decoration-color: #00af00\">32</span>)   │           <span style=\"color: #00af00; text-decoration-color: #00af00\">128</span> │\n",
       "├─────────────────────────────────┼────────────────────────┼───────────────┤\n",
       "│ activation (<span style=\"color: #0087ff; text-decoration-color: #0087ff\">Activation</span>)         │ (<span style=\"color: #00d7ff; text-decoration-color: #00d7ff\">None</span>, <span style=\"color: #00af00; text-decoration-color: #00af00\">238</span>, <span style=\"color: #00af00; text-decoration-color: #00af00\">238</span>, <span style=\"color: #00af00; text-decoration-color: #00af00\">32</span>)   │             <span style=\"color: #00af00; text-decoration-color: #00af00\">0</span> │\n",
       "├─────────────────────────────────┼────────────────────────┼───────────────┤\n",
       "│ max_pool0 (<span style=\"color: #0087ff; text-decoration-color: #0087ff\">MaxPooling2D</span>)        │ (<span style=\"color: #00d7ff; text-decoration-color: #00d7ff\">None</span>, <span style=\"color: #00af00; text-decoration-color: #00af00\">59</span>, <span style=\"color: #00af00; text-decoration-color: #00af00\">59</span>, <span style=\"color: #00af00; text-decoration-color: #00af00\">32</span>)     │             <span style=\"color: #00af00; text-decoration-color: #00af00\">0</span> │\n",
       "├─────────────────────────────────┼────────────────────────┼───────────────┤\n",
       "│ max_pool1 (<span style=\"color: #0087ff; text-decoration-color: #0087ff\">MaxPooling2D</span>)        │ (<span style=\"color: #00d7ff; text-decoration-color: #00d7ff\">None</span>, <span style=\"color: #00af00; text-decoration-color: #00af00\">14</span>, <span style=\"color: #00af00; text-decoration-color: #00af00\">14</span>, <span style=\"color: #00af00; text-decoration-color: #00af00\">32</span>)     │             <span style=\"color: #00af00; text-decoration-color: #00af00\">0</span> │\n",
       "├─────────────────────────────────┼────────────────────────┼───────────────┤\n",
       "│ flatten (<span style=\"color: #0087ff; text-decoration-color: #0087ff\">Flatten</span>)               │ (<span style=\"color: #00d7ff; text-decoration-color: #00d7ff\">None</span>, <span style=\"color: #00af00; text-decoration-color: #00af00\">6272</span>)           │             <span style=\"color: #00af00; text-decoration-color: #00af00\">0</span> │\n",
       "├─────────────────────────────────┼────────────────────────┼───────────────┤\n",
       "│ fc (<span style=\"color: #0087ff; text-decoration-color: #0087ff\">Dense</span>)                      │ (<span style=\"color: #00d7ff; text-decoration-color: #00d7ff\">None</span>, <span style=\"color: #00af00; text-decoration-color: #00af00\">1</span>)              │         <span style=\"color: #00af00; text-decoration-color: #00af00\">6,273</span> │\n",
       "└─────────────────────────────────┴────────────────────────┴───────────────┘\n",
       "</pre>\n"
      ],
      "text/plain": [
       "┏━━━━━━━━━━━━━━━━━━━━━━━━━━━━━━━━━┳━━━━━━━━━━━━━━━━━━━━━━━━┳━━━━━━━━━━━━━━━┓\n",
       "┃\u001b[1m \u001b[0m\u001b[1mLayer (type)                   \u001b[0m\u001b[1m \u001b[0m┃\u001b[1m \u001b[0m\u001b[1mOutput Shape          \u001b[0m\u001b[1m \u001b[0m┃\u001b[1m \u001b[0m\u001b[1m      Param #\u001b[0m\u001b[1m \u001b[0m┃\n",
       "┡━━━━━━━━━━━━━━━━━━━━━━━━━━━━━━━━━╇━━━━━━━━━━━━━━━━━━━━━━━━╇━━━━━━━━━━━━━━━┩\n",
       "│ input_layer (\u001b[38;5;33mInputLayer\u001b[0m)        │ (\u001b[38;5;45mNone\u001b[0m, \u001b[38;5;34m240\u001b[0m, \u001b[38;5;34m240\u001b[0m, \u001b[38;5;34m3\u001b[0m)    │             \u001b[38;5;34m0\u001b[0m │\n",
       "├─────────────────────────────────┼────────────────────────┼───────────────┤\n",
       "│ zero_padding2d (\u001b[38;5;33mZeroPadding2D\u001b[0m)  │ (\u001b[38;5;45mNone\u001b[0m, \u001b[38;5;34m244\u001b[0m, \u001b[38;5;34m244\u001b[0m, \u001b[38;5;34m3\u001b[0m)    │             \u001b[38;5;34m0\u001b[0m │\n",
       "├─────────────────────────────────┼────────────────────────┼───────────────┤\n",
       "│ conv0 (\u001b[38;5;33mConv2D\u001b[0m)                  │ (\u001b[38;5;45mNone\u001b[0m, \u001b[38;5;34m238\u001b[0m, \u001b[38;5;34m238\u001b[0m, \u001b[38;5;34m32\u001b[0m)   │         \u001b[38;5;34m4,736\u001b[0m │\n",
       "├─────────────────────────────────┼────────────────────────┼───────────────┤\n",
       "│ bn0 (\u001b[38;5;33mBatchNormalization\u001b[0m)        │ (\u001b[38;5;45mNone\u001b[0m, \u001b[38;5;34m238\u001b[0m, \u001b[38;5;34m238\u001b[0m, \u001b[38;5;34m32\u001b[0m)   │           \u001b[38;5;34m128\u001b[0m │\n",
       "├─────────────────────────────────┼────────────────────────┼───────────────┤\n",
       "│ activation (\u001b[38;5;33mActivation\u001b[0m)         │ (\u001b[38;5;45mNone\u001b[0m, \u001b[38;5;34m238\u001b[0m, \u001b[38;5;34m238\u001b[0m, \u001b[38;5;34m32\u001b[0m)   │             \u001b[38;5;34m0\u001b[0m │\n",
       "├─────────────────────────────────┼────────────────────────┼───────────────┤\n",
       "│ max_pool0 (\u001b[38;5;33mMaxPooling2D\u001b[0m)        │ (\u001b[38;5;45mNone\u001b[0m, \u001b[38;5;34m59\u001b[0m, \u001b[38;5;34m59\u001b[0m, \u001b[38;5;34m32\u001b[0m)     │             \u001b[38;5;34m0\u001b[0m │\n",
       "├─────────────────────────────────┼────────────────────────┼───────────────┤\n",
       "│ max_pool1 (\u001b[38;5;33mMaxPooling2D\u001b[0m)        │ (\u001b[38;5;45mNone\u001b[0m, \u001b[38;5;34m14\u001b[0m, \u001b[38;5;34m14\u001b[0m, \u001b[38;5;34m32\u001b[0m)     │             \u001b[38;5;34m0\u001b[0m │\n",
       "├─────────────────────────────────┼────────────────────────┼───────────────┤\n",
       "│ flatten (\u001b[38;5;33mFlatten\u001b[0m)               │ (\u001b[38;5;45mNone\u001b[0m, \u001b[38;5;34m6272\u001b[0m)           │             \u001b[38;5;34m0\u001b[0m │\n",
       "├─────────────────────────────────┼────────────────────────┼───────────────┤\n",
       "│ fc (\u001b[38;5;33mDense\u001b[0m)                      │ (\u001b[38;5;45mNone\u001b[0m, \u001b[38;5;34m1\u001b[0m)              │         \u001b[38;5;34m6,273\u001b[0m │\n",
       "└─────────────────────────────────┴────────────────────────┴───────────────┘\n"
      ]
     },
     "metadata": {},
     "output_type": "display_data"
    },
    {
     "data": {
      "text/html": [
       "<pre style=\"white-space:pre;overflow-x:auto;line-height:normal;font-family:Menlo,'DejaVu Sans Mono',consolas,'Courier New',monospace\"><span style=\"font-weight: bold\"> Total params: </span><span style=\"color: #00af00; text-decoration-color: #00af00\">11,137</span> (43.50 KB)\n",
       "</pre>\n"
      ],
      "text/plain": [
       "\u001b[1m Total params: \u001b[0m\u001b[38;5;34m11,137\u001b[0m (43.50 KB)\n"
      ]
     },
     "metadata": {},
     "output_type": "display_data"
    },
    {
     "data": {
      "text/html": [
       "<pre style=\"white-space:pre;overflow-x:auto;line-height:normal;font-family:Menlo,'DejaVu Sans Mono',consolas,'Courier New',monospace\"><span style=\"font-weight: bold\"> Trainable params: </span><span style=\"color: #00af00; text-decoration-color: #00af00\">11,073</span> (43.25 KB)\n",
       "</pre>\n"
      ],
      "text/plain": [
       "\u001b[1m Trainable params: \u001b[0m\u001b[38;5;34m11,073\u001b[0m (43.25 KB)\n"
      ]
     },
     "metadata": {},
     "output_type": "display_data"
    },
    {
     "data": {
      "text/html": [
       "<pre style=\"white-space:pre;overflow-x:auto;line-height:normal;font-family:Menlo,'DejaVu Sans Mono',consolas,'Courier New',monospace\"><span style=\"font-weight: bold\"> Non-trainable params: </span><span style=\"color: #00af00; text-decoration-color: #00af00\">64</span> (256.00 B)\n",
       "</pre>\n"
      ],
      "text/plain": [
       "\u001b[1m Non-trainable params: \u001b[0m\u001b[38;5;34m64\u001b[0m (256.00 B)\n"
      ]
     },
     "metadata": {},
     "output_type": "display_data"
    }
   ],
   "source": [
    "model.summary()"
   ]
  },
  {
   "cell_type": "markdown",
   "id": "1113c652",
   "metadata": {},
   "source": [
    "Compile the model"
   ]
  },
  {
   "cell_type": "code",
   "execution_count": 52,
   "id": "b72afdc3",
   "metadata": {},
   "outputs": [],
   "source": [
    "model.compile(optimizer='adam', loss='binary_crossentropy', metrics=['accuracy'])"
   ]
  },
  {
   "cell_type": "markdown",
   "id": "288bec38",
   "metadata": {},
   "source": [
    "The compile function configures the model for training by specifying the optimizer, loss function, and evaluation metrics to be used.\n",
    "\n",
    "- optimizer='adam' sets the Adam optimizer as the optimization algorithm. Adam is a popular optimizer that adjusts the learning rate dynamically during training to improve convergence.\n",
    "- loss='binary_crossentropy' sets the binary cross-entropy loss function. This loss function is commonly used for binary classification tasks, such as distinguishing between brain tumor and non-tumor images.\n",
    "- metrics=['accuracy'] specifies that the accuracy metric should be used to evaluate the model's performance during training and evaluation.\n",
    "\n",
    "By calling model.compile with these arguments, you configure the model to use Adam optimizer, binary cross-entropy loss, and track the accuracy metric during training and evaluation. "
   ]
  },
  {
   "cell_type": "markdown",
   "id": "451ae1de",
   "metadata": {},
   "source": [
    "Define the early stopping criteria"
   ]
  },
  {
   "cell_type": "code",
   "execution_count": 53,
   "id": "56bcda8f",
   "metadata": {},
   "outputs": [],
   "source": [
    "early_stopping = EarlyStopping(monitor='val_loss', patience=5, restore_best_weights=True)"
   ]
  },
  {
   "cell_type": "markdown",
   "id": "7d7a202e",
   "metadata": {},
   "source": [
    "Train the model"
   ]
  },
  {
   "cell_type": "code",
   "execution_count": 54,
   "id": "12deed01",
   "metadata": {},
   "outputs": [
    {
     "name": "stdout",
     "output_type": "stream",
     "text": [
      "Epoch 1/30\n",
      "\u001b[1m123/123\u001b[0m \u001b[32m━━━━━━━━━━━━━━━━━━━━\u001b[0m\u001b[37m\u001b[0m \u001b[1m72s\u001b[0m 578ms/step - accuracy: 0.7277 - loss: 0.6232 - val_accuracy: 0.7810 - val_loss: 0.5152\n",
      "Epoch 2/30\n",
      "\u001b[1m123/123\u001b[0m \u001b[32m━━━━━━━━━━━━━━━━━━━━\u001b[0m\u001b[37m\u001b[0m \u001b[1m72s\u001b[0m 584ms/step - accuracy: 0.8118 - loss: 0.4371 - val_accuracy: 0.7954 - val_loss: 0.4687\n",
      "Epoch 3/30\n",
      "\u001b[1m123/123\u001b[0m \u001b[32m━━━━━━━━━━━━━━━━━━━━\u001b[0m\u001b[37m\u001b[0m \u001b[1m72s\u001b[0m 584ms/step - accuracy: 0.8448 - loss: 0.3682 - val_accuracy: 0.8012 - val_loss: 0.4696\n",
      "Epoch 4/30\n",
      "\u001b[1m123/123\u001b[0m \u001b[32m━━━━━━━━━━━━━━━━━━━━\u001b[0m\u001b[37m\u001b[0m \u001b[1m71s\u001b[0m 577ms/step - accuracy: 0.8396 - loss: 0.3886 - val_accuracy: 0.8357 - val_loss: 0.4119\n",
      "Epoch 5/30\n",
      "\u001b[1m123/123\u001b[0m \u001b[32m━━━━━━━━━━━━━━━━━━━━\u001b[0m\u001b[37m\u001b[0m \u001b[1m70s\u001b[0m 566ms/step - accuracy: 0.8667 - loss: 0.3237 - val_accuracy: 0.7954 - val_loss: 0.4377\n",
      "Epoch 6/30\n",
      "\u001b[1m123/123\u001b[0m \u001b[32m━━━━━━━━━━━━━━━━━━━━\u001b[0m\u001b[37m\u001b[0m \u001b[1m69s\u001b[0m 561ms/step - accuracy: 0.8703 - loss: 0.3125 - val_accuracy: 0.8415 - val_loss: 0.4710\n",
      "Epoch 7/30\n",
      "\u001b[1m123/123\u001b[0m \u001b[32m━━━━━━━━━━━━━━━━━━━━\u001b[0m\u001b[37m\u001b[0m \u001b[1m69s\u001b[0m 558ms/step - accuracy: 0.8548 - loss: 0.3383 - val_accuracy: 0.7262 - val_loss: 0.5998\n",
      "Epoch 8/30\n",
      "\u001b[1m123/123\u001b[0m \u001b[32m━━━━━━━━━━━━━━━━━━━━\u001b[0m\u001b[37m\u001b[0m \u001b[1m69s\u001b[0m 558ms/step - accuracy: 0.8869 - loss: 0.2906 - val_accuracy: 0.8040 - val_loss: 0.4283\n",
      "Epoch 9/30\n",
      "\u001b[1m123/123\u001b[0m \u001b[32m━━━━━━━━━━━━━━━━━━━━\u001b[0m\u001b[37m\u001b[0m \u001b[1m69s\u001b[0m 560ms/step - accuracy: 0.8789 - loss: 0.2902 - val_accuracy: 0.8386 - val_loss: 0.3845\n",
      "Epoch 10/30\n",
      "\u001b[1m123/123\u001b[0m \u001b[32m━━━━━━━━━━━━━━━━━━━━\u001b[0m\u001b[37m\u001b[0m \u001b[1m69s\u001b[0m 560ms/step - accuracy: 0.8881 - loss: 0.2610 - val_accuracy: 0.8329 - val_loss: 0.6420\n",
      "Epoch 11/30\n",
      "\u001b[1m123/123\u001b[0m \u001b[32m━━━━━━━━━━━━━━━━━━━━\u001b[0m\u001b[37m\u001b[0m \u001b[1m71s\u001b[0m 574ms/step - accuracy: 0.8672 - loss: 0.3230 - val_accuracy: 0.8242 - val_loss: 0.4103\n",
      "Epoch 12/30\n",
      "\u001b[1m123/123\u001b[0m \u001b[32m━━━━━━━━━━━━━━━━━━━━\u001b[0m\u001b[37m\u001b[0m \u001b[1m70s\u001b[0m 567ms/step - accuracy: 0.8964 - loss: 0.2594 - val_accuracy: 0.8184 - val_loss: 0.4302\n",
      "Epoch 13/30\n",
      "\u001b[1m123/123\u001b[0m \u001b[32m━━━━━━━━━━━━━━━━━━━━\u001b[0m\u001b[37m\u001b[0m \u001b[1m69s\u001b[0m 562ms/step - accuracy: 0.8771 - loss: 0.2775 - val_accuracy: 0.8386 - val_loss: 0.4324\n",
      "Epoch 14/30\n",
      "\u001b[1m123/123\u001b[0m \u001b[32m━━━━━━━━━━━━━━━━━━━━\u001b[0m\u001b[37m\u001b[0m \u001b[1m69s\u001b[0m 560ms/step - accuracy: 0.9166 - loss: 0.2043 - val_accuracy: 0.8415 - val_loss: 0.3807\n",
      "Epoch 15/30\n",
      "\u001b[1m123/123\u001b[0m \u001b[32m━━━━━━━━━━━━━━━━━━━━\u001b[0m\u001b[37m\u001b[0m \u001b[1m69s\u001b[0m 559ms/step - accuracy: 0.9054 - loss: 0.2297 - val_accuracy: 0.8329 - val_loss: 0.3645\n",
      "Epoch 16/30\n",
      "\u001b[1m123/123\u001b[0m \u001b[32m━━━━━━━━━━━━━━━━━━━━\u001b[0m\u001b[37m\u001b[0m \u001b[1m69s\u001b[0m 561ms/step - accuracy: 0.9145 - loss: 0.1998 - val_accuracy: 0.8098 - val_loss: 0.4320\n",
      "Epoch 17/30\n",
      "\u001b[1m123/123\u001b[0m \u001b[32m━━━━━━━━━━━━━━━━━━━━\u001b[0m\u001b[37m\u001b[0m \u001b[1m70s\u001b[0m 572ms/step - accuracy: 0.9288 - loss: 0.1928 - val_accuracy: 0.8501 - val_loss: 0.4012\n",
      "Epoch 18/30\n",
      "\u001b[1m123/123\u001b[0m \u001b[32m━━━━━━━━━━━━━━━━━━━━\u001b[0m\u001b[37m\u001b[0m \u001b[1m69s\u001b[0m 564ms/step - accuracy: 0.9167 - loss: 0.1901 - val_accuracy: 0.7925 - val_loss: 0.4601\n",
      "Epoch 19/30\n",
      "\u001b[1m123/123\u001b[0m \u001b[32m━━━━━━━━━━━━━━━━━━━━\u001b[0m\u001b[37m\u001b[0m \u001b[1m70s\u001b[0m 567ms/step - accuracy: 0.9258 - loss: 0.1940 - val_accuracy: 0.8530 - val_loss: 0.3999\n",
      "Epoch 20/30\n",
      "\u001b[1m123/123\u001b[0m \u001b[32m━━━━━━━━━━━━━━━━━━━━\u001b[0m\u001b[37m\u001b[0m \u001b[1m72s\u001b[0m 582ms/step - accuracy: 0.9249 - loss: 0.1847 - val_accuracy: 0.8530 - val_loss: 0.3790\n"
     ]
    },
    {
     "data": {
      "text/plain": [
       "<keras.src.callbacks.history.History at 0x19207f06550>"
      ]
     },
     "execution_count": 54,
     "metadata": {},
     "output_type": "execute_result"
    }
   ],
   "source": [
    "model.fit(x=X_train, y=y_train, batch_size=32, epochs=30, validation_data=(X_val, y_val), verbose=1, callbacks=[early_stopping])"
   ]
  },
  {
   "cell_type": "markdown",
   "id": "c0cce7bf",
   "metadata": {},
   "source": [
    "Save the model"
   ]
  },
  {
   "cell_type": "code",
   "execution_count": 55,
   "id": "9243054d",
   "metadata": {},
   "outputs": [
    {
     "name": "stderr",
     "output_type": "stream",
     "text": [
      "WARNING:absl:You are saving your model as an HDF5 file via `model.save()` or `keras.saving.save_model(model)`. This file format is considered legacy. We recommend using instead the native Keras format, e.g. `model.save('my_model.keras')` or `keras.saving.save_model(model, 'my_model.keras')`. \n"
     ]
    }
   ],
   "source": [
    "model.save('models/cnn_model.h5')"
   ]
  },
  {
   "cell_type": "markdown",
   "id": "e6aaa7a3",
   "metadata": {},
   "source": [
    "Load the model"
   ]
  },
  {
   "cell_type": "code",
   "execution_count": 56,
   "id": "96edb6c9",
   "metadata": {},
   "outputs": [
    {
     "name": "stderr",
     "output_type": "stream",
     "text": [
      "WARNING:absl:Compiled the loaded model, but the compiled metrics have yet to be built. `model.compile_metrics` will be empty until you train or evaluate the model.\n"
     ]
    }
   ],
   "source": [
    "loaded_model = load_model('models/cnn_model.h5')"
   ]
  },
  {
   "cell_type": "markdown",
   "id": "3a79e278",
   "metadata": {},
   "source": [
    "Evaluate the model"
   ]
  },
  {
   "cell_type": "code",
   "execution_count": 57,
   "id": "14aa56b4",
   "metadata": {},
   "outputs": [
    {
     "name": "stdout",
     "output_type": "stream",
     "text": [
      "\u001b[1m11/11\u001b[0m \u001b[32m━━━━━━━━━━━━━━━━━━━━\u001b[0m\u001b[37m\u001b[0m \u001b[1m1s\u001b[0m 76ms/step - accuracy: 0.8528 - loss: 0.3670\n",
      "Test Loss = 0.35621199011802673\n",
      "Test Accuracy = 0.8645533323287964\n"
     ]
    }
   ],
   "source": [
    "loss, accuracy = loaded_model.evaluate(x=X_test, y=y_test)\n",
    "print (f\"Test Loss = {loss}\")\n",
    "print (f\"Test Accuracy = {accuracy}\")"
   ]
  },
  {
   "cell_type": "markdown",
   "id": "c8652c65",
   "metadata": {},
   "source": [
    "Create a function that takes the path of an image and returns if it contains brain tumor or not using the loaded model"
   ]
  },
  {
   "cell_type": "code",
   "execution_count": 58,
   "id": "c7bd9e4c",
   "metadata": {},
   "outputs": [],
   "source": [
    "def predict(path):\n",
    "    image = cv2.imread(path)\n",
    "    X = []\n",
    "    image_width, image_height = (240, 240)\n",
    "    # crop the brain and ignore the unnecessary rest part of the image\n",
    "    image = crop_brain_contour(image)\n",
    "    # resize image\n",
    "    image = cv2.resize(image, dsize=(image_width, image_height), interpolation=cv2.INTER_CUBIC)\n",
    "    # normalize values\n",
    "    image = image / 255.\n",
    "    # convert image to numpy array and append it to X\n",
    "    X.append(image)\n",
    "    X = np.array(X)   \n",
    "    predicting = loaded_model.predict(X)[0][0]\n",
    "    if predicting >= 0.5:\n",
    "        return \"Brain Tumor Detected\"\n",
    "    else:\n",
    "        return \"No Brain Tumor Detected\""
   ]
  },
  {
   "cell_type": "markdown",
   "id": "29fd2d2a",
   "metadata": {},
   "source": [
    "Use the predict function"
   ]
  },
  {
   "cell_type": "code",
   "execution_count": 59,
   "id": "fbce396c",
   "metadata": {},
   "outputs": [
    {
     "name": "stdout",
     "output_type": "stream",
     "text": [
      "\u001b[1m1/1\u001b[0m \u001b[32m━━━━━━━━━━━━━━━━━━━━\u001b[0m\u001b[37m\u001b[0m \u001b[1m0s\u001b[0m 57ms/step\n"
     ]
    },
    {
     "data": {
      "text/plain": [
       "'Brain Tumor Detected'"
      ]
     },
     "execution_count": 59,
     "metadata": {},
     "output_type": "execute_result"
    }
   ],
   "source": [
    "predict('yes/Y2.jpg')"
   ]
  },
  {
   "cell_type": "code",
   "execution_count": null,
   "id": "ff9dd806",
   "metadata": {},
   "outputs": [],
   "source": []
  }
 ],
 "metadata": {
  "kernelspec": {
   "display_name": "Python 3 (ipykernel)",
   "language": "python",
   "name": "python3"
  },
  "language_info": {
   "codemirror_mode": {
    "name": "ipython",
    "version": 3
   },
   "file_extension": ".py",
   "mimetype": "text/x-python",
   "name": "python",
   "nbconvert_exporter": "python",
   "pygments_lexer": "ipython3",
   "version": "3.11.9"
  }
 },
 "nbformat": 4,
 "nbformat_minor": 5
}
